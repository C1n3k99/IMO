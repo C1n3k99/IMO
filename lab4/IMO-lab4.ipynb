{
 "cells": [
  {
   "cell_type": "markdown",
   "id": "351d5a0a",
   "metadata": {},
   "source": [
    "### Import potrzebnych bibliotek"
   ]
  },
  {
   "cell_type": "code",
   "execution_count": null,
   "id": "b1135287",
   "metadata": {},
   "outputs": [],
   "source": [
    "import pandas as pd\n",
    "import numpy as np\n",
    "import random as rd\n",
    "import matplotlib.pyplot as plt\n",
    "import seaborn as sns\n",
    "import time\n",
    "from tqdm import tqdm"
   ]
  },
  {
   "cell_type": "markdown",
   "id": "17b33443",
   "metadata": {},
   "source": [
    "### Funkcje obliczające długość "
   ]
  },
  {
   "cell_type": "code",
   "execution_count": null,
   "id": "d9e1e8e0",
   "metadata": {},
   "outputs": [],
   "source": [
    "#funkcja obliczająca odległość między dwoma wierzchołkami z matematycznym zaokrągleniem\n",
    "def distance(x1,x2,y1,y2):\n",
    "    return np.floor(np.sqrt((x1-x2)**2+(y1-y2)**2)+0.5)"
   ]
  },
  {
   "cell_type": "code",
   "execution_count": null,
   "id": "d7a19a9b",
   "metadata": {},
   "outputs": [],
   "source": [
    "#funkcja obliczająca całkowitą długość cyklu\n",
    "def distance_sum(cycle,matrix):\n",
    "    distance_list = [matrix[cycle[i]][cycle[0]] if i==len(cycle)-1 else matrix[cycle[i]][cycle[i+1]]\n",
    "                    for i in range(len(cycle))]\n",
    "    \n",
    "    return sum(distance_list)"
   ]
  },
  {
   "cell_type": "markdown",
   "id": "8c291c75",
   "metadata": {},
   "source": [
    "### Wczytanie obu instancji problemu"
   ]
  },
  {
   "cell_type": "code",
   "execution_count": null,
   "id": "79acbb99",
   "metadata": {},
   "outputs": [],
   "source": [
    "#wczytanie pierwszej instancji (kroA200)\n",
    "\n",
    "instance = pd.read_csv('kroA200.tsp', sep=' ', names=['node', 'x', 'y'], skiprows=6, skipfooter=1,\n",
    "                      engine='python')\n",
    "kroA200 = []\n",
    "\n",
    "for index1, row1 in instance.iterrows():\n",
    "    tmp = []\n",
    "    for index2, row2 in instance.iterrows():\n",
    "        if (index1==index2):\n",
    "            tmp.append(0)\n",
    "        else:\n",
    "            tmp.append(distance(row1['x'],row2['x'],row1['y'],row2['y']))\n",
    "    kroA200.append(tmp)\n",
    "    \n",
    "np.array(kroA200)"
   ]
  },
  {
   "cell_type": "code",
   "execution_count": null,
   "id": "da03dcfa",
   "metadata": {},
   "outputs": [],
   "source": [
    "#wczytanie drugiej instancji (kroB200)\n",
    "\n",
    "instance2 = pd.read_csv('kroB200.tsp', sep=' ', names=['node', 'x', 'y'], skiprows=6, skipfooter=1,\n",
    "                      engine='python')\n",
    "\n",
    "kroB200 = []\n",
    "\n",
    "for index1, row1 in instance2.iterrows():\n",
    "    tmp = []\n",
    "    for index2, row2 in instance2.iterrows():\n",
    "        if (index1==index2):\n",
    "            tmp.append(0)\n",
    "        else:\n",
    "            tmp.append(distance(row1['x'],row2['x'],row1['y'],row2['y']))\n",
    "    kroB200.append(tmp)\n",
    "\n",
    "np.array(kroB200)"
   ]
  },
  {
   "cell_type": "markdown",
   "id": "a700b0be",
   "metadata": {},
   "source": [
    "Losowanie wierzchołków startowych"
   ]
  },
  {
   "cell_type": "code",
   "execution_count": null,
   "id": "9d30ce65",
   "metadata": {},
   "outputs": [],
   "source": [
    "#losowanie pierwszego wierzchołka startowego - drugi wyznaczany jest jako najdalszy od pierwszego\n",
    "def get_start_nodes(matrix):\n",
    "    first_start=rd.randint(0, len(matrix)-1)\n",
    "    second_start=np.argmax(matrix[first_start])\n",
    "    return first_start,second_start"
   ]
  },
  {
   "cell_type": "markdown",
   "id": "244573e5",
   "metadata": {},
   "source": [
    "Utworzenie losowych cykli"
   ]
  },
  {
   "cell_type": "code",
   "execution_count": null,
   "id": "82b8e871",
   "metadata": {},
   "outputs": [],
   "source": [
    "def create_random_cycles(instance):\n",
    "    vertices = np.arange(0, len(instance))\n",
    "    rd.shuffle(vertices)\n",
    "    \n",
    "    split_index = len(instance) // 2\n",
    "    \n",
    "    # return cycle1 and cycle2\n",
    "    return vertices[:split_index], vertices[split_index:]"
   ]
  },
  {
   "cell_type": "markdown",
   "id": "b93eb952",
   "metadata": {},
   "source": [
    "Obliczenie delty funkcji celu"
   ]
  },
  {
   "cell_type": "code",
   "execution_count": null,
   "id": "02995273",
   "metadata": {},
   "outputs": [],
   "source": [
    "def calculate_delta(cycle1, cycle2, matrix, move):\n",
    "    # wymiana wierzchołków między cyklami\n",
    "    if move[0] == 0:\n",
    "        index1, index2 = move[1][0], move[1][1]\n",
    "        \n",
    "        node1, node2 = cycle1[index1], cycle2[index2]\n",
    "        node1_before, node2_before = cycle1[index1-1], cycle2[index2-1]\n",
    "        node1_after, node2_after = cycle1[(index1+1) % len(cycle1)], cycle2[(index2+1) % len(cycle2)]\n",
    "        \n",
    "        delta = matrix[node1_before][node2] + matrix[node2][node1_after] + \\\n",
    "                matrix[node2_before][node1] + matrix[node1][node2_after] - \\\n",
    "                matrix[node1_before][node1] - matrix[node1][node1_after] - \\\n",
    "                matrix[node2_before][node2] - matrix[node2][node2_after]\n",
    "     \n",
    "    # wymiana wierzchołków w cyklu\n",
    "    elif move[0] == 1:\n",
    "        cycle = cycle1 if not move[1][0] else cycle2\n",
    "        \n",
    "        index1, index2 = move[1][1], move[1][2]\n",
    "        \n",
    "        node1, node2 = cycle[index1], cycle[index2]\n",
    "        node1_before, node2_before = cycle[index1-1], cycle[index2-1]\n",
    "        node1_after, node2_after = cycle[(index1+1) % len(cycle)], cycle[(index2+1) % len(cycle)]\n",
    "        \n",
    "        old_distance = matrix[node1][node1_before] + matrix[node1][node1_after] + matrix[node2][node2_before] + matrix[node2][node2_after]\n",
    "        new_distance = matrix[node1][node2_before] + matrix[node1][node2_after] + matrix[node2][node1_before] + matrix[node2][node1_after]\n",
    "        \n",
    "        delta = new_distance - old_distance\n",
    "        \n",
    "    # wymiana krawędzi w cyklu\n",
    "    else:\n",
    "        cycle = cycle1 if not move[1][0] else cycle2\n",
    "        index1, index1_2, index2, index2_2 = move[1][1:]\n",
    "        node1, node1_2, node2, node2_2 = cycle[index1], cycle[index1_2], cycle[index2], cycle[index2_2]\n",
    "        \n",
    "        delta = matrix[node1][node2] + matrix[node1_2][node2_2] - matrix[node1][node1_2] - matrix[node2][node2_2]\n",
    "        \n",
    "    return delta"
   ]
  },
  {
   "cell_type": "markdown",
   "id": "31942f64",
   "metadata": {},
   "source": [
    "Tworzenie cykli metodą zachłanną"
   ]
  },
  {
   "cell_type": "code",
   "execution_count": null,
   "id": "c1b99b3a",
   "metadata": {},
   "outputs": [],
   "source": [
    "# matrix to np.array(kroA200) lub np.array(kroB200)\n",
    "def greedy_cycle(matrix, first_start, second_start):\n",
    "    \n",
    "    # utwórz dwa cykle i listę dostępnych wierzchołków\n",
    "    cycle1=[first_start]\n",
    "    cycle2=[second_start]\n",
    "    \n",
    "    # True tam, gdzie jest dostępny wierzchołek, False tam, gdzie jest już wstawiony w cyklu\n",
    "    remaining = np.ones((matrix.shape[0],), dtype=bool)\n",
    "    remaining[first_start] = False\n",
    "    remaining[second_start] = False\n",
    "    \n",
    "    # oblicz długość obu cykli\n",
    "    cycle1_length = matrix.shape[0] // 2\n",
    "    cycle2_length = matrix.shape[0] - cycle1_length\n",
    "    \n",
    "    # dla każdego cyklu stwórz cykl metodą zachłanną\n",
    "    for cycle, length in [[cycle1, cycle1_length], [cycle2, cycle2_length]]:\n",
    "        \n",
    "        # dodaj najbliższego sąsiada dla wierzchołka początkowego\n",
    "        min_distance = np.min(matrix[cycle[0]][remaining])\n",
    "        # znajdź wierzchołki, dla których odległość jest najmniejsza\n",
    "        min_nodes = np.squeeze(np.argwhere(matrix[cycle[0]] == min_distance), axis=-1)\n",
    "        # wybierz pierwszy wierzchołek\n",
    "        chosen_node = min_nodes[0]\n",
    "        # dodaj wierzchołek do cyklu\n",
    "        cycle.append(chosen_node)\n",
    "        # zmień wartość w liście remaining na pozycji chosen_node na False\n",
    "        remaining[chosen_node] = False\n",
    "        \n",
    "        # dodawanie pozostałych wierzchołków do cyklu\n",
    "        for i in range(length-2):\n",
    "            # wybierz pierwszy wierzchołek\n",
    "            best_start = cycle[0]\n",
    "            # wybierz pierwszy możliwy wierzchołek końcowy dla wybranego\n",
    "            best_end = np.argwhere(remaining)[0, 0]\n",
    "            # delta wstawienia między wierzchołek 0 a 1\n",
    "            best_delta = matrix[best_start, best_end] + matrix[best_end, cycle[1]] - \\\n",
    "                         matrix[best_start, cycle[1]]\n",
    "            \n",
    "            # dla wszystkich wierzchołków w cyklu\n",
    "            for j in range(len(cycle)):\n",
    "                # dla wszystkich możliwych wierzchołków\n",
    "                for k in range(matrix.shape[0]):\n",
    "                    if remaining[k]:\n",
    "                        delta = matrix[cycle[j], k] + matrix[k, cycle[(j+1) % len(cycle)]] - \\\n",
    "                        matrix[cycle[j], cycle[(j+1) % len(cycle)]]\n",
    "                        \n",
    "                        # aktualizacja najlepszego wierzchołka do wstawienia\n",
    "                        if delta < best_delta:\n",
    "                            best_start = cycle[j]\n",
    "                            best_end = k\n",
    "                            best_delta = delta\n",
    "            \n",
    "            # wstaw najlepszy znaleziony wierzchołek na pozycji za najlepszym startowym\n",
    "            cycle.insert(cycle.index(best_start) + 1, best_end)\n",
    "            remaining[best_end] = False\n",
    "            \n",
    "    return cycle1, cycle2"
   ]
  },
  {
   "cell_type": "code",
   "execution_count": null,
   "id": "black-campbell",
   "metadata": {},
   "outputs": [],
   "source": [
    "def calculate_regret_with_weight(list_nodes):\n",
    "    list_nodes = np.array(list_nodes)\n",
    "    difference = list_nodes[:,2]-1.2*(list_nodes[:,1])\n",
    "    best_result_index = np.argmax(difference)\n",
    "    return int(list_nodes[best_result_index][0])"
   ]
  },
  {
   "cell_type": "code",
   "execution_count": null,
   "id": "expected-symbol",
   "metadata": {},
   "outputs": [],
   "source": [
    "def nodes_with_best_given_index(matrix,cycle,remaining,given_index):\n",
    "    result_nodes = []\n",
    "    for node_to_add in remaining:\n",
    "        best1 = 9999999999998\n",
    "        best2 = 9999999999999\n",
    "        index = -1\n",
    "        for i in range (len(cycle)):\n",
    "            if i!=len(cycle)-1:\n",
    "                tmp_distance = matrix[cycle[i]][node_to_add]+ matrix[cycle[i+1]][node_to_add] - matrix[cycle[i]][cycle[i+1]]\n",
    "            else:\n",
    "                tmp_distance = matrix[cycle[i]][node_to_add]+ matrix[cycle[0]][node_to_add] - matrix[cycle[i]][cycle[0]]\n",
    "            if tmp_distance < best2:\n",
    "                if tmp_distance < best1:\n",
    "                    best2 = best1\n",
    "                    best1 = tmp_distance\n",
    "                    index = i\n",
    "                else:\n",
    "                    best2 = tmp_distance\n",
    "        if index == given_index:\n",
    "            result_nodes.append([node_to_add,best1,best2])\n",
    "    return result_nodes"
   ]
  },
  {
   "cell_type": "code",
   "execution_count": null,
   "id": "amber-utility",
   "metadata": {},
   "outputs": [],
   "source": [
    "def start_greedy(matrix, cycle, remaining):\n",
    "    min_distance = 999999999\n",
    "    index = -1\n",
    "    min_node = cycle[0]\n",
    "    for node_to_add in remaining:\n",
    "        for i in range (len(cycle)):\n",
    "            if i!=len(cycle)-1:\n",
    "                tmp_distance = matrix[cycle[i]][node_to_add]+ matrix[cycle[i+1]][node_to_add] - matrix[cycle[i]][cycle[i+1]]\n",
    "            else:\n",
    "                tmp_distance = matrix[cycle[i]][node_to_add]+ matrix[cycle[0]][node_to_add] - matrix[cycle[i]][cycle[0]]\n",
    "            if tmp_distance < min_distance:\n",
    "                min_distance = tmp_distance\n",
    "                min_node = node_to_add\n",
    "                index = i\n",
    "    return min_node, index"
   ]
  },
  {
   "cell_type": "code",
   "execution_count": null,
   "id": "generous-treat",
   "metadata": {},
   "outputs": [],
   "source": [
    "def greedy_regret_with_weight(matrix, cycle, remaining):\n",
    "    best_node_to_add, best_index = start_greedy(matrix, cycle, remaining)\n",
    "    nodes_on_the_same_position = nodes_with_best_given_index(matrix, cycle, remaining, best_index)\n",
    "    return calculate_regret_with_weight(nodes_on_the_same_position), best_index"
   ]
  },
  {
   "cell_type": "code",
   "execution_count": null,
   "id": "ethical-pontiac",
   "metadata": {},
   "outputs": [],
   "source": [
    "def calculate_greedy_regret_with_weight(matrix, cycle1, cycle2, remaining):\n",
    "\n",
    "    while (remaining):\n",
    "        node_to_add, index = greedy_regret_with_weight(matrix, cycle1, remaining)\n",
    "        index = int(index)\n",
    "        cycle1.insert(index+1, node_to_add)\n",
    "        remaining.remove(node_to_add)\n",
    "        if not remaining:\n",
    "             break\n",
    "        node_to_add, index = greedy_regret_with_weight(matrix, cycle2, remaining)\n",
    "        index = int(index)\n",
    "        cycle2.insert(index+1, node_to_add)\n",
    "        remaining.remove(node_to_add)\n",
    "        \n",
    "    return cycle1, cycle2"
   ]
  },
  {
   "cell_type": "markdown",
   "id": "bdeabaac",
   "metadata": {},
   "source": [
    "Generowanie ruchów"
   ]
  },
  {
   "cell_type": "code",
   "execution_count": null,
   "id": "22e62e37",
   "metadata": {},
   "outputs": [],
   "source": [
    "# change_type -> 1 dla wymiany wierzchołków w cyklu, 2 dla wymiany krawędzi w cyklu\n",
    "def generate_moves(cycle1, cycle2, change_type):\n",
    "    \n",
    "    # ruchy międzytrasowe\n",
    "    moves1 = [(0, (index1, index2)) for index1 in range(len(cycle1)) for index2 in range(len(cycle2))]\n",
    "    \n",
    "    # ruchy wewnątrztrasowe\n",
    "    moves2 = []\n",
    "    # wymiana wierzchołków w cyklu\n",
    "    if change_type == 1:\n",
    "        moves2 = [(1, (cycle_number, index1, index2)) for cycle_number, cycle in enumerate([cycle1, cycle2]) \n",
    "                  for index1 in range(len(cycle)) for index2 in range(len(cycle)) if index1 != index2]\n",
    "    \n",
    "    moves3 = []\n",
    "    # wymiana krawędzi w cyklu\n",
    "    if change_type == 2:\n",
    "        for cycle_number, cycle in enumerate([cycle1, cycle2]):\n",
    "            for index1 in range(len(cycle)):\n",
    "                for index2 in range(len(cycle)):\n",
    "                    if abs(index1 - index2) < 2:\n",
    "                        continue\n",
    "                        \n",
    "                    if index1 == len(cycle) - 1:\n",
    "                        index1_end = 0\n",
    "                    else:\n",
    "                        index1_end = index1 + 1\n",
    "                        \n",
    "                    if index2 == len(cycle) - 1:\n",
    "                        index2_end = 0\n",
    "                    else:\n",
    "                        index2_end = index2 + 1\n",
    "                        \n",
    "                    move = (2, (cycle_number, index1, index1_end, index2, index2_end))\n",
    "                    moves3.append(move)\n",
    "                    \n",
    "    return moves1 + moves2 + moves3"
   ]
  },
  {
   "cell_type": "markdown",
   "id": "cbf52da0",
   "metadata": {},
   "source": [
    "Wykonaj ruch"
   ]
  },
  {
   "cell_type": "code",
   "execution_count": null,
   "id": "fe0c5687",
   "metadata": {},
   "outputs": [],
   "source": [
    "def apply_move(cycle1, cycle2, move):\n",
    "    # ruch pomiędzy cyklami\n",
    "    if move[0] == 0:\n",
    "        temp = cycle1[move[1][0]]\n",
    "        cycle1[move[1][0]] = cycle2[move[1][1]]\n",
    "        cycle2[move[1][1]] = temp\n",
    "        \n",
    "    # ruch w cyklu -> wymiana wierzchołków\n",
    "    elif move[0] == 1:\n",
    "        cycle = cycle2 if move[1][0] else cycle1\n",
    "\n",
    "        temp = cycle[move[1][1]]\n",
    "        cycle[move[1][1]] = cycle[move[1][2]]\n",
    "        cycle[move[1][2]] = temp\n",
    "     \n",
    "    # ruch w cyklu -> wymiana krawędzi\n",
    "    elif move[0] == 2:\n",
    "        cycle = cycle2 if move[1][0] else cycle1\n",
    "        index1, index1_2, index2, index2_2 = move[1][1:]\n",
    "        if index1_2 == 0:\n",
    "            c1 = [cycle[index1_2]]\n",
    "            c2 = cycle[index2_2:index1 + 1]\n",
    "            c3 = cycle[index2:index1_2:-1]\n",
    "        elif index2_2 == 0:\n",
    "            c1 = cycle[:index1_2]\n",
    "            c2 = cycle[index2:index1:-1]\n",
    "            c3 = []\n",
    "        else:\n",
    "            c1 = cycle[:min(index1_2, index2_2)]\n",
    "            c2 = cycle[max(index1_2, index2_2)-1 : min(index1_2, index2_2)-1 : -1]\n",
    "            c3 = cycle[max(index1_2, index2_2):]\n",
    "        \n",
    "        if type(c1) is np.ndarray:\n",
    "            c1 = c1.tolist()\n",
    "        if type(c2) is np.ndarray:\n",
    "            c2 = c2.tolist()\n",
    "        if type(c3) is np.ndarray:\n",
    "            c3 = c3.tolist()\n",
    "            \n",
    "        if not isinstance(c1, list):\n",
    "            c1 = [c1]\n",
    "        if not isinstance(c2, list):\n",
    "            c2 = [c2]\n",
    "        if not isinstance(c3, list):\n",
    "            c3 = [c3]\n",
    "        \n",
    "        cycle = c1 + c2 + c3\n",
    "        \n",
    "        if not move[1][0]:\n",
    "            cycle1 = cycle\n",
    "        else:\n",
    "            cycle2 = cycle\n",
    "            \n",
    "    return cycle1, cycle2"
   ]
  },
  {
   "cell_type": "markdown",
   "id": "65dc2511",
   "metadata": {},
   "source": [
    "Zachłanne przeszukiwanie lokalne"
   ]
  },
  {
   "cell_type": "code",
   "execution_count": null,
   "id": "f8f1be0a",
   "metadata": {},
   "outputs": [],
   "source": [
    "# change_type -> 1 dla wymiany wierzchołków w cyklu, 2 dla wymiany krawędzi w cyklu\n",
    "def greedy_local_search(cycle1, cycle2, matrix, change_type):\n",
    "    start_time = time.time()\n",
    "    \n",
    "    cycle1_copy = cycle1.copy()\n",
    "    cycle2_copy = cycle2.copy()\n",
    "    \n",
    "    moves = generate_moves(cycle1_copy, cycle2_copy, change_type)\n",
    "    \n",
    "    while True:\n",
    "        no_better_moves = True\n",
    "        random_bias = rd.randrange(0, len(moves))\n",
    "        random_direction = rd.choice([-1, 1])\n",
    "        \n",
    "        for i in range(len(moves)):\n",
    "            move = moves[random_direction * ((i + random_bias) % len(moves))]\n",
    "            delta = calculate_delta(cycle1_copy, cycle2_copy, matrix, move)\n",
    "            if delta < 0:\n",
    "                cycle1_copy, cycle2_copy = apply_move(cycle1_copy, cycle2_copy, move)\n",
    "                no_better_moves = False\n",
    "                break\n",
    "\n",
    "        if no_better_moves:\n",
    "            break\n",
    "\n",
    "    total_time_seconds = time.time() - start_time\n",
    "    return cycle1_copy, cycle2_copy, total_time_seconds"
   ]
  },
  {
   "cell_type": "code",
   "execution_count": null,
   "id": "1f1dcf96",
   "metadata": {},
   "outputs": [],
   "source": [
    "# start_solution -> 'random' lub 'not_random'\n",
    "def multiple_start_local_search(matrix, iterations=100, start_solution='random'):\n",
    "    start_time = time.time()\n",
    "    \n",
    "    cycle1_best, cycle2_best = None, None\n",
    "    best_result = 999999999999999\n",
    "    \n",
    "    for i in range(iterations):\n",
    "        if start_solution == 'random':\n",
    "            cycle1, cycle2 = create_random_cycles(matrix)\n",
    "        else:\n",
    "            first_start, second_start = get_start_nodes(matrix)\n",
    "            cycle1, cycle2 = greedy_cycle(np.array(matrix), first_start, second_start)\n",
    "        \n",
    "        cycle1_res, cycle2_res, _ = greedy_local_search(cycle1, cycle2, matrix, 2)\n",
    "        \n",
    "        result = distance_sum(cycle1_res, matrix) + distance_sum(cycle2_res, matrix)\n",
    "        if result < best_result:\n",
    "            cycle1_best, cycle2_best = cycle1_res, cycle2_res\n",
    "            best_result = result\n",
    "        \n",
    "    total_time_seconds = time.time() - start_time\n",
    "    \n",
    "    return cycle1_best, cycle2_best, total_time_seconds"
   ]
  },
  {
   "cell_type": "code",
   "execution_count": null,
   "id": "ce13b52b",
   "metadata": {},
   "outputs": [],
   "source": [
    "c1_b, c2_b, tts = multiple_start_local_search(kroB200, 100, 'random')"
   ]
  },
  {
   "cell_type": "code",
   "execution_count": null,
   "id": "16f9ca56",
   "metadata": {},
   "outputs": [],
   "source": [
    "c1_b"
   ]
  },
  {
   "cell_type": "code",
   "execution_count": null,
   "id": "4ed0e0bd",
   "metadata": {},
   "outputs": [],
   "source": [
    "c2_b"
   ]
  },
  {
   "cell_type": "code",
   "execution_count": null,
   "id": "a4ecaa5f",
   "metadata": {},
   "outputs": [],
   "source": [
    "tts"
   ]
  },
  {
   "cell_type": "code",
   "execution_count": null,
   "id": "f4a438ce",
   "metadata": {},
   "outputs": [],
   "source": []
  },
  {
   "cell_type": "markdown",
   "id": "3bc6804f",
   "metadata": {},
   "source": [
    "Perturbacje ILS1"
   ]
  },
  {
   "cell_type": "code",
   "execution_count": null,
   "id": "a5fb3913",
   "metadata": {},
   "outputs": [],
   "source": [
    "def perturbation1(cycle1, cycle2, moves_number = 5):\n",
    "    for m in range(moves_number):\n",
    "        moves = generate_moves(cycle1, cycle2, 2)\n",
    "        move = rd.sample(moves, 1)\n",
    "        cycle1, cycle2 = apply_move(cycle1, cycle2, move)\n",
    "        \n",
    "    return cycle1, cycle2"
   ]
  },
  {
   "cell_type": "markdown",
   "id": "f9746487",
   "metadata": {},
   "source": [
    "ILS1"
   ]
  },
  {
   "cell_type": "code",
   "execution_count": null,
   "id": "1dc20788",
   "metadata": {},
   "outputs": [],
   "source": [
    "# start_solution -> 'random' lub 'not_random'\n",
    "def ils1(matrix, duration_time, start_solution='random'):\n",
    "    start_time = time.time()    \n",
    "\n",
    "    if start_solution == 'random':\n",
    "        cycle1, cycle2 = create_random_cycles(matrix)\n",
    "    else:\n",
    "        first_start, second_start = get_start_nodes(matrix)\n",
    "        cycle1, cycle2 = greedy_cycle(np.array(matrix), first_start, second_start)\n",
    "\n",
    "    cycle1_res, cycle2_res, _ = greedy_local_search(cycle1, cycle2, matrix, 2)\n",
    "    \n",
    "    cycle1_best, cycle2_best = cycle1_res.copy(), cycle2_res.copy()\n",
    "    best_result = distance_sum(cycle1_res, matrix) + distance_sum(cycle2_res, matrix)\n",
    "        \n",
    "    while time.time() - start_time < duration_time:\n",
    "        cycle1_copy, cycle2_copy = cycle1_best.copy(), cycle2_best.copy()\n",
    "        cycle1_p, cycle2_p = perturbation1(cycle1_copy, cycle2_copy)\n",
    "        cycle1_res, cycle2_res, _ = greedy_local_search(cycle1_p, cycle2_p, matrix, 2)\n",
    "        \n",
    "        result = distance_sum(cycle1_res, matrix) + distance_sum(cycle2_res, matrix)\n",
    "        \n",
    "        if result < best_result:\n",
    "            cycle1_best, cycle2_best = cycle1_res, cycle2_res\n",
    "            best_result = result\n",
    "        \n",
    "    total_time_seconds = time.time() - start_time\n",
    "    \n",
    "    return cycle1_best, cycle2_best, total_time_seconds"
   ]
  },
  {
   "cell_type": "code",
   "execution_count": null,
   "id": "d8573d43",
   "metadata": {},
   "outputs": [],
   "source": [
    "c1_b, c2_b, tts = ils1(kroB200, 10, 'random')"
   ]
  },
  {
   "cell_type": "code",
   "execution_count": null,
   "id": "3482bb83",
   "metadata": {},
   "outputs": [],
   "source": [
    "tts"
   ]
  },
  {
   "cell_type": "code",
   "execution_count": null,
   "id": "29be0b0d",
   "metadata": {},
   "outputs": [],
   "source": [
    "distance_sum(c1_b, kroB200) + distance_sum(c2_b, kroB200)"
   ]
  },
  {
   "cell_type": "markdown",
   "id": "00d4e5ba",
   "metadata": {},
   "source": [
    "Perturbacja ILS2"
   ]
  },
  {
   "cell_type": "code",
   "execution_count": null,
   "id": "f7778824",
   "metadata": {},
   "outputs": [],
   "source": [
    "def perturbation2(cycle1, cycle2, delete_percent=20):\n",
    "    how_many_delete=len(cycle1)*delete_percent/100\n",
    "    cycle1_to_delete = rd.sample(cycle1, int(how_many_delete))\n",
    "    cycle2_to_delete = rd.sample(cycle2, int(how_many_delete))\n",
    "    for node in cycle1_to_delete:\n",
    "        cycle1.remove(node)\n",
    "    for node in cycle2_to_delete:\n",
    "        cycle2.remove(node)\n",
    "    return cycle1, cycle2, cycle1_to_delete+cycle2_to_delete"
   ]
  },
  {
   "cell_type": "code",
   "execution_count": null,
   "id": "representative-vehicle",
   "metadata": {},
   "outputs": [],
   "source": [
    "def ils2(matrix, duration_time, start_solution='random'):\n",
    "    start_time = time.time()    \n",
    "\n",
    "    if start_solution == 'random':\n",
    "        cycle1, cycle2 = create_random_cycles(matrix)\n",
    "        cycle1, cycle2, _ = greedy_local_search(cycle1, cycle2, matrix, 2)\n",
    "    else:\n",
    "        first_start, second_start = get_start_nodes(matrix)\n",
    "        cycle1, cycle2 = greedy_cycle(np.array(matrix), first_start, second_start)\n",
    "\n",
    "    \n",
    "    cycle1_best, cycle2_best = cycle1.copy(), cycle2.copy()\n",
    "    best_result = distance_sum(cycle1_best, matrix) + distance_sum(cycle2_best, matrix)\n",
    "        \n",
    "    while time.time() - start_time < duration_time:\n",
    "        cycle1_copy, cycle2_copy = cycle1_best.copy(), cycle2_best.copy()\n",
    "        cycle1_p, cycle2_p, remaining = perturbation2(cycle1_copy, cycle2_copy)\n",
    "        cycle1_res, cycle2_res = calculate_greedy_regret_with_weight(matrix, cycle1_p, cycle2_p, remaining)\n",
    "        \n",
    "        result = distance_sum(cycle1_res, matrix) + distance_sum(cycle2_res, matrix)\n",
    "        \n",
    "        if result < best_result:\n",
    "            cycle1_best, cycle2_best = cycle1_res, cycle2_res\n",
    "            best_result = result\n",
    "        \n",
    "    total_time_seconds = time.time() - start_time\n",
    "    \n",
    "    return cycle1_best, cycle2_best, total_time_seconds"
   ]
  },
  {
   "cell_type": "code",
   "execution_count": null,
   "id": "three-proportion",
   "metadata": {},
   "outputs": [],
   "source": [
    "c1_b, c2_b, tts = ils2(kroB200, 10, 'random')"
   ]
  },
  {
   "cell_type": "code",
   "execution_count": null,
   "id": "regulation-record",
   "metadata": {},
   "outputs": [],
   "source": [
    "tts"
   ]
  },
  {
   "cell_type": "code",
   "execution_count": null,
   "id": "tender-canal",
   "metadata": {},
   "outputs": [],
   "source": [
    "distance_sum(c1_b, kroB200) + distance_sum(c2_b, kroB200)"
   ]
  },
  {
   "cell_type": "code",
   "execution_count": null,
   "id": "unusual-nevada",
   "metadata": {},
   "outputs": [],
   "source": [
    "print(len(c2_b))"
   ]
  },
  {
   "cell_type": "code",
   "execution_count": null,
   "id": "greenhouse-safety",
   "metadata": {},
   "outputs": [],
   "source": [
    "def ils2a(matrix, duration_time, start_solution='random'):\n",
    "    start_time = time.time()    \n",
    "\n",
    "    if start_solution == 'random':\n",
    "        cycle1, cycle2 = create_random_cycles(matrix)\n",
    "        cycle1, cycle2, _ = greedy_local_search(cycle1, cycle2, matrix, 2)\n",
    "    else:\n",
    "        first_start, second_start = get_start_nodes(matrix)\n",
    "        cycle1, cycle2 = greedy_cycle(np.array(matrix), first_start, second_start)\n",
    "\n",
    "    \n",
    "    cycle1_best, cycle2_best = cycle1.copy(), cycle2.copy()\n",
    "    best_result = distance_sum(cycle1_best, matrix) + distance_sum(cycle2_best, matrix)\n",
    "        \n",
    "    while time.time() - start_time < duration_time:\n",
    "        cycle1_copy, cycle2_copy = cycle1_best.copy(), cycle2_best.copy()\n",
    "        cycle1_p, cycle2_p, remaining = perturbation2(cycle1_copy, cycle2_copy)\n",
    "        cycle1_res, cycle2_res = calculate_greedy_regret_with_weight(matrix, cycle1_p, cycle2_p, remaining)\n",
    "        cycle1_res, cycle2_res, _ = greedy_local_search(cycle1_res, cycle2_res, matrix, 2)\n",
    "        \n",
    "        result = distance_sum(cycle1_res, matrix) + distance_sum(cycle2_res, matrix)\n",
    "        \n",
    "        if result < best_result:\n",
    "            cycle1_best, cycle2_best = cycle1_res, cycle2_res\n",
    "            best_result = result\n",
    "        \n",
    "    total_time_seconds = time.time() - start_time\n",
    "    \n",
    "    return cycle1_best, cycle2_best, total_time_seconds"
   ]
  },
  {
   "cell_type": "code",
   "execution_count": null,
   "id": "informational-istanbul",
   "metadata": {},
   "outputs": [],
   "source": [
    "c1_b, c2_b, tts = ils2(kroB200, 10, 'random')"
   ]
  },
  {
   "cell_type": "code",
   "execution_count": null,
   "id": "burning-money",
   "metadata": {},
   "outputs": [],
   "source": [
    "tts"
   ]
  },
  {
   "cell_type": "code",
   "execution_count": null,
   "id": "occupied-norman",
   "metadata": {},
   "outputs": [],
   "source": [
    "distance_sum(c1_b, kroB200) + distance_sum(c2_b, kroB200)"
   ]
  },
  {
   "cell_type": "code",
   "execution_count": null,
   "id": "warming-express",
   "metadata": {},
   "outputs": [],
   "source": [
    "results_kroA200 = [[],[],[],[]]\n",
    "results_kroB200 = [[],[],[],[]]\n",
    "results_kroA200_time = [[],[],[],[]]\n",
    "results_kroB200_time = [[],[],[],[]]"
   ]
  },
  {
   "cell_type": "code",
   "execution_count": null,
   "id": "universal-florist",
   "metadata": {},
   "outputs": [],
   "source": [
    "for i in tqdm(range(10)):\n",
    "    cycle1_best, cycle2_best, msls_time = multiple_start_local_search(kroA200, 100, 'random')\n",
    "    result = distance_sum(cycle1_best, kroA200) + distance_sum(cycle2_best, kroA200)\n",
    "    results_kroA200[0].append([result, cycle1_best, cycle2_best])\n",
    "    results_kroA200_time[0].append(msls_time)\n",
    "    \n",
    "    cycle1_best, cycle2_best, msls_time = multiple_start_local_search(kroB200, 100, 'random')\n",
    "    result = distance_sum(cycle1_best, kroB200) + distance_sum(cycle2_best, kroB200)\n",
    "    results_kroB200[0].append([result, cycle1_best, cycle2_best])\n",
    "    results_kroB200_time[0].append(msls_time)"
   ]
  },
  {
   "cell_type": "code",
   "execution_count": null,
   "id": "above-issue",
   "metadata": {},
   "outputs": [],
   "source": [
    "for i in tqdm(range(10)):\n",
    "    cycle1_best, cycle2_best, msls_time = ils1(kroA200, 80, 'random')\n",
    "    result = distance_sum(cycle1_best, kroA200) + distance_sum(cycle2_best, kroA200)\n",
    "    results_kroA200[1].append([result, cycle1_best, cycle2_best])\n",
    "    results_kroA200_time[1].append(msls_time)\n",
    "    \n",
    "    cycle1_best, cycle2_best, msls_time = ils1(kroB200, 80, 'random')\n",
    "    result = distance_sum(cycle1_best, kroB200) + distance_sum(cycle2_best, kroB200)\n",
    "    results_kroB200[1].append([result, cycle1_best, cycle2_best])\n",
    "    results_kroB200_time[1].append(msls_time)\n",
    "    \n",
    "    cycle1_best, cycle2_best, msls_time = ils2(kroA200, 80, 'random')\n",
    "    result = distance_sum(cycle1_best, kroA200) + distance_sum(cycle2_best, kroA200)\n",
    "    results_kroA200[2].append([result, cycle1_best, cycle2_best])\n",
    "    results_kroA200_time[2].append(msls_time)\n",
    "    \n",
    "    cycle1_best, cycle2_best, msls_time = ils2(kroB200, 80, 'random')\n",
    "    result = distance_sum(cycle1_best, kroB200) + distance_sum(cycle2_best, kroB200)\n",
    "    results_kroB200[2].append([result, cycle1_best, cycle2_best])\n",
    "    results_kroB200_time[2].append(msls_time)\n",
    "    \n",
    "    cycle1_best, cycle2_best, msls_time = ils2a(kroA200, 80, 'random')\n",
    "    result = distance_sum(cycle1_best, kroA200) + distance_sum(cycle2_best, kroA200)\n",
    "    results_kroA200[3].append([result, cycle1_best, cycle2_best])\n",
    "    results_kroA200_time[3].append(msls_time)\n",
    "    \n",
    "    cycle1_best, cycle2_best, msls_time = ils2a(kroB200, 80, 'random')\n",
    "    result = distance_sum(cycle1_best, kroB200) + distance_sum(cycle2_best, kroB200)\n",
    "    results_kroB200[3].append([result, cycle1_best, cycle2_best])\n",
    "    results_kroB200_time[3].append(msls_time)"
   ]
  },
  {
   "cell_type": "code",
   "execution_count": null,
   "id": "vocational-toner",
   "metadata": {},
   "outputs": [],
   "source": [
    "print(\"MSLS kroA200 time:\")\n",
    "print(\"Mean:\", np.mean(results_kroA200_time[0]))\n",
    "print(\"Max:\", np.max(results_kroA200_time[0]))\n",
    "print(\"Min:\", np.min(results_kroA200_time[0]))\n",
    "print(\"MSLS kroB200 time:\")\n",
    "print(\"Mean:\", np.mean(results_kroB200_time[0]))\n",
    "print(\"Max:\", np.max(results_kroB200_time[0]))\n",
    "print(\"Min:\", np.min(results_kroB200_time[0]))"
   ]
  },
  {
   "cell_type": "code",
   "execution_count": null,
   "id": "threatened-bubble",
   "metadata": {},
   "outputs": [],
   "source": [
    "print(\"ILS1 kroA200 time:\")\n",
    "print(\"Mean:\", np.mean(results_kroA200_time[1]))\n",
    "print(\"Max:\", np.max(results_kroA200_time[1]))\n",
    "print(\"Min:\", np.min(results_kroA200_time[1]))\n",
    "print(\"ILS1 kroB200 time:\")\n",
    "print(\"Mean:\", np.mean(results_kroB200_time[1]))\n",
    "print(\"Max:\", np.max(results_kroB200_time[1]))\n",
    "print(\"Min:\", np.min(results_kroB200_time[1]))"
   ]
  },
  {
   "cell_type": "code",
   "execution_count": null,
   "id": "demonstrated-watershed",
   "metadata": {},
   "outputs": [],
   "source": [
    "print(\"ILS2 kroA200 time:\")\n",
    "print(\"Mean:\", np.mean(results_kroA200_time[2]))\n",
    "print(\"Max:\", np.max(results_kroA200_time[2]))\n",
    "print(\"Min:\", np.min(results_kroA200_time[2]))\n",
    "print(\"ILS2 kroB200 time:\")\n",
    "print(\"Mean:\", np.mean(results_kroB200_time[2]))\n",
    "print(\"Max:\", np.max(results_kroB200_time[2]))\n",
    "print(\"Min:\", np.min(results_kroB200_time[2]))"
   ]
  },
  {
   "cell_type": "code",
   "execution_count": null,
   "id": "oriented-belarus",
   "metadata": {},
   "outputs": [],
   "source": [
    "print(\"ILS2a kroA200 time:\")\n",
    "print(\"Mean:\", np.mean(results_kroA200_time[3]))\n",
    "print(\"Max:\", np.max(results_kroA200_time[3]))\n",
    "print(\"Min:\", np.min(results_kroA200_time[3]))\n",
    "print(\"ILS2a kroB200 time:\")\n",
    "print(\"Mean:\", np.mean(results_kroB200_time[3]))\n",
    "print(\"Max:\", np.max(results_kroB200_time[3]))\n",
    "print(\"Min:\", np.min(results_kroB200_time[3]))"
   ]
  },
  {
   "cell_type": "code",
   "execution_count": null,
   "id": "nutritional-advisory",
   "metadata": {},
   "outputs": [],
   "source": [
    "print(\"MSLS kroA200 score:\")\n",
    "mean = []\n",
    "for x in results_kroA200[0]:\n",
    "    mean.append(x[0])\n",
    "print(\"Mean:\", np.mean(mean))\n",
    "print(\"Max:\", np.max(results_kroA200[0], axis=0)[0])\n",
    "print(\"Min:\", np.min(results_kroA200[0], axis=0)[0])\n",
    "print(\"MSLS kroB200 score:\")\n",
    "mean = []\n",
    "for x in results_kroB200[0]:\n",
    "    mean.append(x[0])\n",
    "print(\"Mean:\", np.mean(mean))\n",
    "print(\"Max:\", np.max(results_kroB200[0], axis=0)[0])\n",
    "print(\"Min:\", np.min(results_kroB200[0], axis=0)[0])"
   ]
  },
  {
   "cell_type": "code",
   "execution_count": null,
   "id": "interstate-permit",
   "metadata": {},
   "outputs": [],
   "source": [
    "print(\"ILS1 kroA200 score:\")\n",
    "mean = []\n",
    "for x in results_kroA200[1]:\n",
    "    mean.append(x[0])\n",
    "print(\"Mean:\", np.mean(mean))\n",
    "print(\"Max:\", np.max(results_kroA200[1], axis=0)[0])\n",
    "print(\"Min:\", np.min(results_kroA200[1], axis=0)[0])\n",
    "print(\"ILS1 kroB200 score:\")\n",
    "mean = []\n",
    "for x in results_kroB200[1]:\n",
    "    mean.append(x[0])\n",
    "print(\"Mean:\", np.mean(mean))\n",
    "print(\"Max:\", np.max(results_kroB200[1], axis=0)[0])\n",
    "print(\"Min:\", np.min(results_kroB200[1], axis=0)[0])"
   ]
  },
  {
   "cell_type": "code",
   "execution_count": null,
   "id": "stock-scotland",
   "metadata": {},
   "outputs": [],
   "source": [
    "print(\"ILS2 kroA200 score:\")\n",
    "mean = []\n",
    "for x in results_kroA200[2]:\n",
    "    mean.append(x[0])\n",
    "print(\"Mean:\", np.mean(mean))\n",
    "print(\"Max:\", np.max(results_kroA200[2], axis=0)[0])\n",
    "print(\"Min:\", np.min(results_kroA200[2], axis=0)[0])\n",
    "print(\"ILS2 kroB200 score:\")\n",
    "mean = []\n",
    "for x in results_kroB200[2]:\n",
    "    mean.append(x[0])\n",
    "print(\"Mean:\", np.mean(mean))\n",
    "print(\"Max:\", np.max(results_kroB200[2], axis=0)[0])\n",
    "print(\"Min:\", np.min(results_kroB200[2], axis=0)[0])"
   ]
  },
  {
   "cell_type": "code",
   "execution_count": null,
   "id": "considerable-profit",
   "metadata": {},
   "outputs": [],
   "source": [
    "print(\"ILS2a kroA200 score:\")\n",
    "mean = []\n",
    "for x in results_kroA200[3]:\n",
    "    mean.append(x[0])\n",
    "print(\"Mean:\", np.mean(mean))\n",
    "print(\"Max:\", np.max(results_kroA200[3], axis=0)[0])\n",
    "print(\"Min:\", np.min(results_kroA200[3], axis=0)[0])\n",
    "print(\"ILS2a kroB200 score:\")\n",
    "mean = []\n",
    "for x in results_kroB200[3]:\n",
    "    mean.append(x[0])\n",
    "print(\"Mean:\", np.mean(mean))\n",
    "print(\"Max:\", np.max(results_kroB200[3], axis=0)[0])\n",
    "print(\"Min:\", np.min(results_kroB200[3], axis=0)[0])"
   ]
  },
  {
   "cell_type": "code",
   "execution_count": null,
   "id": "surprising-turtle",
   "metadata": {},
   "outputs": [],
   "source": [
    "plt.rc('figure', dpi=110, figsize=(9, 5))\n",
    "sns.set_style('darkgrid')\n",
    "    \n",
    "for table in [results_kroA200[0],results_kroA200[1],results_kroA200[2],results_kroA200[3]]:    \n",
    "    best_result = np.argmin(table, axis=0)\n",
    "    cycle1 = table[best_result[0]][1]\n",
    "    cycle2 = table[best_result[0]][2]\n",
    "\n",
    "    cycle1.append(cycle1[0])\n",
    "    cycle2.append(cycle2[0])\n",
    "\n",
    "    coordinate_x_cycle1 = []\n",
    "    coordinate_y_cycle1 = []\n",
    "    coordinate_x_cycle2 = []\n",
    "    coordinate_y_cycle2 = []\n",
    "    for node in cycle1:\n",
    "        coordinate_x_cycle1.append(instance.loc[node]['x'])\n",
    "        coordinate_y_cycle1.append(instance.loc[node]['y'])\n",
    "    for node in cycle2:\n",
    "        coordinate_x_cycle2.append(instance.loc[node]['x'])\n",
    "        coordinate_y_cycle2.append(instance.loc[node]['y'])\n",
    "\n",
    "    # plotting the line 1 points\n",
    "    plt.plot(coordinate_x_cycle1, coordinate_y_cycle1, '-bo',  c='blue', mfc='k', mec='k', label=\"cycle1\")\n",
    "    plt.plot(coordinate_x_cycle2, coordinate_y_cycle2, '-bo',  c='red', mfc='k', mec='k', label=\"cycle2\")\n",
    "    # naming the x axis\n",
    "    plt.xlabel('x - axis')\n",
    "    # naming the y axis\n",
    "    plt.ylabel('y - axis')\n",
    "    # giving a title to my graph\n",
    "\n",
    "    # show a legend on the plot\n",
    "    plt.legend()\n",
    "\n",
    "    # function to show the plot\n",
    "    plt.show()"
   ]
  },
  {
   "cell_type": "code",
   "execution_count": null,
   "id": "driven-biodiversity",
   "metadata": {},
   "outputs": [],
   "source": [
    "plt.rc('figure', dpi=110, figsize=(9, 5))\n",
    "sns.set_style('darkgrid')\n",
    "    \n",
    "for table in [results_kroB200[0],results_kroB200[1],results_kroB200[2],results_kroB200[3]]:    \n",
    "    best_result = np.argmin(table, axis=0)\n",
    "    cycle1 = table[best_result[0]][1]\n",
    "    cycle2 = table[best_result[0]][2]\n",
    "\n",
    "    cycle1.append(cycle1[0])\n",
    "    cycle2.append(cycle2[0])\n",
    "\n",
    "    coordinate_x_cycle1 = []\n",
    "    coordinate_y_cycle1 = []\n",
    "    coordinate_x_cycle2 = []\n",
    "    coordinate_y_cycle2 = []\n",
    "    for node in cycle1:\n",
    "        coordinate_x_cycle1.append(instance2.loc[node]['x'])\n",
    "        coordinate_y_cycle1.append(instance2.loc[node]['y'])\n",
    "    for node in cycle2:\n",
    "        coordinate_x_cycle2.append(instance2.loc[node]['x'])\n",
    "        coordinate_y_cycle2.append(instance2.loc[node]['y'])\n",
    "\n",
    "    # plotting the line 1 points\n",
    "    plt.plot(coordinate_x_cycle1, coordinate_y_cycle1, '-bo',  c='blue', mfc='k', mec='k', label=\"cycle1\")\n",
    "    plt.plot(coordinate_x_cycle2, coordinate_y_cycle2, '-bo',  c='red', mfc='k', mec='k', label=\"cycle2\")\n",
    "    # naming the x axis\n",
    "    plt.xlabel('x - axis')\n",
    "    # naming the y axis\n",
    "    plt.ylabel('y - axis')\n",
    "    # giving a title to my graph\n",
    "\n",
    "    # show a legend on the plot\n",
    "    plt.legend()\n",
    "\n",
    "    # function to show the plot\n",
    "    plt.show()"
   ]
  }
 ],
 "metadata": {
  "kernelspec": {
   "display_name": "Python 3",
   "language": "python",
   "name": "python3"
  },
  "language_info": {
   "codemirror_mode": {
    "name": "ipython",
    "version": 3
   },
   "file_extension": ".py",
   "mimetype": "text/x-python",
   "name": "python",
   "nbconvert_exporter": "python",
   "pygments_lexer": "ipython3",
   "version": "3.9.1"
  }
 },
 "nbformat": 4,
 "nbformat_minor": 5
}
